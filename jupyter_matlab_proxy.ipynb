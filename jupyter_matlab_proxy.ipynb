{
 "cells": [
  {
   "cell_type": "code",
   "execution_count": null,
   "metadata": {},
   "outputs": [],
   "source": [
    "fprintf(\"Hellow World!\")"
   ]
  }
 ],
 "metadata": {
  "kernelspec": {
   "display_name": "jmp",
   "language": "python",
   "name": "python3"
  },
  "language_info": {
   "file_extension": ".m",
   "mimetype": "text/x-matlab",
   "name": "python",
   "version": "3.10.8"
  },
  "orig_nbformat": 4,
  "vscode": {
   "interpreter": {
    "hash": "f373238dba670540458e13bab3da3e88f84dc76baf665a6b1732d36a8b7f3d65"
   }
  }
 },
 "nbformat": 4,
 "nbformat_minor": 2
}
