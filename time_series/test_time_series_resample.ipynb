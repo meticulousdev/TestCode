{
 "cells": [
  {
   "cell_type": "code",
   "execution_count": 1,
   "metadata": {},
   "outputs": [],
   "source": [
    "import pandas as pd"
   ]
  },
  {
   "cell_type": "code",
   "execution_count": 2,
   "metadata": {},
   "outputs": [],
   "source": [
    "day_to_sec = 86400"
   ]
  },
  {
   "attachments": {},
   "cell_type": "markdown",
   "metadata": {},
   "source": [
    "- pd.date_range 사용법"
   ]
  },
  {
   "cell_type": "code",
   "execution_count": 3,
   "metadata": {},
   "outputs": [
    {
     "name": "stdout",
     "output_type": "stream",
     "text": [
      "DatetimeIndex(['2023-01-01 00:00:00', '2023-01-01 00:00:01',\n",
      "               '2023-01-01 00:00:02', '2023-01-01 00:00:03',\n",
      "               '2023-01-01 00:00:04', '2023-01-01 00:00:05',\n",
      "               '2023-01-01 00:00:06', '2023-01-01 00:00:07',\n",
      "               '2023-01-01 00:00:08', '2023-01-01 00:00:09',\n",
      "               ...\n",
      "               '2023-01-01 23:59:50', '2023-01-01 23:59:51',\n",
      "               '2023-01-01 23:59:52', '2023-01-01 23:59:53',\n",
      "               '2023-01-01 23:59:54', '2023-01-01 23:59:55',\n",
      "               '2023-01-01 23:59:56', '2023-01-01 23:59:57',\n",
      "               '2023-01-01 23:59:58', '2023-01-01 23:59:59'],\n",
      "              dtype='datetime64[ns]', length=86400, freq='S')\n"
     ]
    }
   ],
   "source": [
    "idx = pd.date_range('2023-01-01', periods=day_to_sec, freq='S')\n",
    "print(idx)"
   ]
  },
  {
   "cell_type": "code",
   "execution_count": 4,
   "metadata": {},
   "outputs": [
    {
     "name": "stdout",
     "output_type": "stream",
     "text": [
      "DatetimeIndex(['2023-01-01 00:00:00', '2023-01-01 00:01:00',\n",
      "               '2023-01-01 00:02:00', '2023-01-01 00:03:00',\n",
      "               '2023-01-01 00:04:00', '2023-01-01 00:05:00',\n",
      "               '2023-01-01 00:06:00', '2023-01-01 00:07:00',\n",
      "               '2023-01-01 00:08:00', '2023-01-01 00:09:00',\n",
      "               ...\n",
      "               '2023-01-01 23:50:00', '2023-01-01 23:51:00',\n",
      "               '2023-01-01 23:52:00', '2023-01-01 23:53:00',\n",
      "               '2023-01-01 23:54:00', '2023-01-01 23:55:00',\n",
      "               '2023-01-01 23:56:00', '2023-01-01 23:57:00',\n",
      "               '2023-01-01 23:58:00', '2023-01-01 23:59:00'],\n",
      "              dtype='datetime64[ns]', length=1440, freq='60S')\n"
     ]
    }
   ],
   "source": [
    "idx = pd.date_range('2023-01-01', periods=day_to_sec/60, freq='60S')\n",
    "print(idx)"
   ]
  },
  {
   "cell_type": "code",
   "execution_count": 5,
   "metadata": {},
   "outputs": [
    {
     "name": "stdout",
     "output_type": "stream",
     "text": [
      "(1440,)\n"
     ]
    }
   ],
   "source": [
    "print(idx.shape)"
   ]
  },
  {
   "attachments": {},
   "cell_type": "markdown",
   "metadata": {},
   "source": [
    "- 데이터 처리 (통계 계산)"
   ]
  },
  {
   "cell_type": "code",
   "execution_count": 6,
   "metadata": {},
   "outputs": [
    {
     "name": "stdout",
     "output_type": "stream",
     "text": [
      "                     data01  data02   data03  data04\n",
      "2023-01-01 00:00:00       0       0        0       0\n",
      "2023-01-01 00:01:00       1       2        1       0\n",
      "2023-01-01 00:02:00       2       4        4       0\n",
      "2023-01-01 00:03:00       3       6        9       0\n",
      "2023-01-01 00:04:00       4       8       16       0\n",
      "...                     ...     ...      ...     ...\n",
      "2023-01-01 23:55:00    1435    2870  2059225       0\n",
      "2023-01-01 23:56:00    1436    2872  2062096       0\n",
      "2023-01-01 23:57:00    1437    2874  2064969       0\n",
      "2023-01-01 23:58:00    1438    2876  2067844       0\n",
      "2023-01-01 23:59:00    1439    2878  2070721       0\n",
      "\n",
      "[1440 rows x 4 columns]\n"
     ]
    }
   ],
   "source": [
    "data_columns = ['data01', 'data02', 'data03', 'data04']\n",
    "\n",
    "data_example = pd.DataFrame([[i, i * 2, i * i, 0] for i in range(idx.shape[0])], index=idx, columns=data_columns)\n",
    "print(data_example)"
   ]
  },
  {
   "cell_type": "code",
   "execution_count": 7,
   "metadata": {},
   "outputs": [
    {
     "name": "stdout",
     "output_type": "stream",
     "text": [
      "False\n",
      "False\n",
      "False\n"
     ]
    }
   ],
   "source": [
    "cond_isnull = data_example.isnull().values.any()\n",
    "print(cond_isnull)\n",
    "\n",
    "cond_isna = data_example.isna().values.any()\n",
    "print(cond_isna)\n",
    "\n",
    "cond_total = cond_isnull or cond_isna\n",
    "print(cond_total)"
   ]
  },
  {
   "attachments": {},
   "cell_type": "markdown",
   "metadata": {},
   "source": [
    "시간 평균"
   ]
  },
  {
   "cell_type": "code",
   "execution_count": 8,
   "metadata": {},
   "outputs": [],
   "source": [
    "data_hourly_mean01 = pd.DataFrame()\n",
    "data_hourly_mean02 = pd.DataFrame()"
   ]
  },
  {
   "cell_type": "code",
   "execution_count": 9,
   "metadata": {},
   "outputs": [
    {
     "name": "stdout",
     "output_type": "stream",
     "text": [
      "                     data01  data02        data03  data04\n",
      "2023-01-01 00:00:00    29.5    59.0  1.170167e+03     0.0\n",
      "2023-01-01 01:00:00    89.5   179.0  8.310167e+03     0.0\n",
      "2023-01-01 02:00:00   149.5   299.0  2.265017e+04     0.0\n",
      "2023-01-01 03:00:00   209.5   419.0  4.419017e+04     0.0\n",
      "2023-01-01 04:00:00   269.5   539.0  7.293017e+04     0.0\n",
      "2023-01-01 05:00:00   329.5   659.0  1.088702e+05     0.0\n",
      "2023-01-01 06:00:00   389.5   779.0  1.520102e+05     0.0\n",
      "2023-01-01 07:00:00   449.5   899.0  2.023502e+05     0.0\n",
      "2023-01-01 08:00:00   509.5  1019.0  2.598902e+05     0.0\n",
      "2023-01-01 09:00:00   569.5  1139.0  3.246302e+05     0.0\n",
      "2023-01-01 10:00:00   629.5  1259.0  3.965702e+05     0.0\n",
      "2023-01-01 11:00:00   689.5  1379.0  4.757102e+05     0.0\n",
      "2023-01-01 12:00:00   749.5  1499.0  5.620502e+05     0.0\n",
      "2023-01-01 13:00:00   809.5  1619.0  6.555902e+05     0.0\n",
      "2023-01-01 14:00:00   869.5  1739.0  7.563302e+05     0.0\n",
      "2023-01-01 15:00:00   929.5  1859.0  8.642702e+05     0.0\n",
      "2023-01-01 16:00:00   989.5  1979.0  9.794102e+05     0.0\n",
      "2023-01-01 17:00:00  1049.5  2099.0  1.101750e+06     0.0\n",
      "2023-01-01 18:00:00  1109.5  2219.0  1.231290e+06     0.0\n",
      "2023-01-01 19:00:00  1169.5  2339.0  1.368030e+06     0.0\n",
      "2023-01-01 20:00:00  1229.5  2459.0  1.511970e+06     0.0\n",
      "2023-01-01 21:00:00  1289.5  2579.0  1.663110e+06     0.0\n",
      "2023-01-01 22:00:00  1349.5  2699.0  1.821450e+06     0.0\n",
      "2023-01-01 23:00:00  1409.5  2819.0  1.986990e+06     0.0\n"
     ]
    }
   ],
   "source": [
    "data_hourly_mean01[data_columns] = data_example[data_columns].resample('60T').mean()\n",
    "print(data_hourly_mean01)"
   ]
  },
  {
   "cell_type": "code",
   "execution_count": 10,
   "metadata": {},
   "outputs": [
    {
     "name": "stdout",
     "output_type": "stream",
     "text": [
      "                     data01  data02        data03  data04\n",
      "2023-01-01 00:00:00    29.5    59.0  1.170167e+03     0.0\n",
      "2023-01-01 01:00:00    89.5   179.0  8.310167e+03     0.0\n",
      "2023-01-01 02:00:00   149.5   299.0  2.265017e+04     0.0\n",
      "2023-01-01 03:00:00   209.5   419.0  4.419017e+04     0.0\n",
      "2023-01-01 04:00:00   269.5   539.0  7.293017e+04     0.0\n",
      "2023-01-01 05:00:00   329.5   659.0  1.088702e+05     0.0\n",
      "2023-01-01 06:00:00   389.5   779.0  1.520102e+05     0.0\n",
      "2023-01-01 07:00:00   449.5   899.0  2.023502e+05     0.0\n",
      "2023-01-01 08:00:00   509.5  1019.0  2.598902e+05     0.0\n",
      "2023-01-01 09:00:00   569.5  1139.0  3.246302e+05     0.0\n",
      "2023-01-01 10:00:00   629.5  1259.0  3.965702e+05     0.0\n",
      "2023-01-01 11:00:00   689.5  1379.0  4.757102e+05     0.0\n",
      "2023-01-01 12:00:00   749.5  1499.0  5.620502e+05     0.0\n",
      "2023-01-01 13:00:00   809.5  1619.0  6.555902e+05     0.0\n",
      "2023-01-01 14:00:00   869.5  1739.0  7.563302e+05     0.0\n",
      "2023-01-01 15:00:00   929.5  1859.0  8.642702e+05     0.0\n",
      "2023-01-01 16:00:00   989.5  1979.0  9.794102e+05     0.0\n",
      "2023-01-01 17:00:00  1049.5  2099.0  1.101750e+06     0.0\n",
      "2023-01-01 18:00:00  1109.5  2219.0  1.231290e+06     0.0\n",
      "2023-01-01 19:00:00  1169.5  2339.0  1.368030e+06     0.0\n",
      "2023-01-01 20:00:00  1229.5  2459.0  1.511970e+06     0.0\n",
      "2023-01-01 21:00:00  1289.5  2579.0  1.663110e+06     0.0\n",
      "2023-01-01 22:00:00  1349.5  2699.0  1.821450e+06     0.0\n",
      "2023-01-01 23:00:00  1409.5  2819.0  1.986990e+06     0.0\n"
     ]
    }
   ],
   "source": [
    "data_hourly_mean02[data_columns] = data_example[data_columns].resample('60T').sum()/60\n",
    "print(data_hourly_mean02)"
   ]
  },
  {
   "attachments": {},
   "cell_type": "markdown",
   "metadata": {},
   "source": [
    "연간 데이터"
   ]
  },
  {
   "cell_type": "code",
   "execution_count": 11,
   "metadata": {},
   "outputs": [
    {
     "name": "stdout",
     "output_type": "stream",
     "text": [
      "DatetimeIndex(['2023-01-01', '2023-01-02', '2023-01-03', '2023-01-04',\n",
      "               '2023-01-05', '2023-01-06', '2023-01-07', '2023-01-08',\n",
      "               '2023-01-09', '2023-01-10',\n",
      "               ...\n",
      "               '2023-12-22', '2023-12-23', '2023-12-24', '2023-12-25',\n",
      "               '2023-12-26', '2023-12-27', '2023-12-28', '2023-12-29',\n",
      "               '2023-12-30', '2023-12-31'],\n",
      "              dtype='datetime64[ns]', length=365, freq='D')\n"
     ]
    }
   ],
   "source": [
    "idx_year = pd.date_range('2023-01-01', '2023-12-31')\n",
    "print(idx_year)"
   ]
  },
  {
   "cell_type": "code",
   "execution_count": 12,
   "metadata": {},
   "outputs": [
    {
     "name": "stdout",
     "output_type": "stream",
     "text": [
      "2023-01-01 00:00:00\n",
      "2023-12-31 00:00:00\n"
     ]
    }
   ],
   "source": [
    "print(idx_year[0])\n",
    "print(idx_year[-1])"
   ]
  },
  {
   "attachments": {},
   "cell_type": "markdown",
   "metadata": {},
   "source": [
    "- 날짜 정보 문자열로 합치기"
   ]
  },
  {
   "cell_type": "code",
   "execution_count": 13,
   "metadata": {},
   "outputs": [
    {
     "name": "stdout",
     "output_type": "stream",
     "text": [
      "2023-01-01 00:00:00\n",
      "20230101\n"
     ]
    }
   ],
   "source": [
    "print(idx_year[0])\n",
    "\n",
    "idx_str = str(idx_year[0])\n",
    "idx_date = idx_str[0:4] + idx_str[5:7] + idx_str[8:10]\n",
    "print(idx_date)"
   ]
  }
 ],
 "metadata": {
  "kernelspec": {
   "display_name": "Python 3",
   "language": "python",
   "name": "python3"
  },
  "language_info": {
   "codemirror_mode": {
    "name": "ipython",
    "version": 3
   },
   "file_extension": ".py",
   "mimetype": "text/x-python",
   "name": "python",
   "nbconvert_exporter": "python",
   "pygments_lexer": "ipython3",
   "version": "3.7.9 (tags/v3.7.9:13c94747c7, Aug 17 2020, 18:58:18) [MSC v.1900 64 bit (AMD64)]"
  },
  "orig_nbformat": 4,
  "vscode": {
   "interpreter": {
    "hash": "2fe79daa55a4bc494d2ac1a4d5a036e5bfdf21d6cf63bd029ca00f3447144e1e"
   }
  }
 },
 "nbformat": 4,
 "nbformat_minor": 2
}
