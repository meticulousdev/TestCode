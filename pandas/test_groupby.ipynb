{
 "cells": [
  {
   "cell_type": "code",
   "execution_count": 1,
   "metadata": {},
   "outputs": [],
   "source": [
    "import pandas as pd"
   ]
  },
  {
   "cell_type": "code",
   "execution_count": 2,
   "metadata": {},
   "outputs": [],
   "source": [
    "file_path = \"sample_groupby.csv\"\n",
    "xlsx_data = pd.read_csv(file_path)"
   ]
  },
  {
   "cell_type": "code",
   "execution_count": 5,
   "metadata": {},
   "outputs": [
    {
     "name": "stdout",
     "output_type": "stream",
     "text": [
      "   type     value\n",
      "0     A  0.849879\n",
      "1     B  0.748148\n",
      "2     C  0.486729\n",
      "3     A  0.410857\n",
      "4     B  0.253102\n",
      "5     C  0.499774\n",
      "6     A  0.544474\n",
      "7     B  0.825557\n",
      "8     C  0.247176\n",
      "9     A  0.030023\n",
      "10    B  0.362822\n",
      "11    C  0.850469\n",
      "12    A  0.887696\n",
      "13    B  0.949626\n",
      "14    C  0.177815\n",
      "15    A  0.378727\n",
      "16    B  0.229702\n",
      "17    C  0.593233\n"
     ]
    }
   ],
   "source": [
    "print(xlsx_data)"
   ]
  },
  {
   "cell_type": "code",
   "execution_count": 6,
   "metadata": {},
   "outputs": [
    {
     "name": "stdout",
     "output_type": "stream",
     "text": [
      "Index(['type', 'value'], dtype='object')\n"
     ]
    }
   ],
   "source": [
    "print(xlsx_data.columns)"
   ]
  },
  {
   "cell_type": "code",
   "execution_count": 7,
   "metadata": {},
   "outputs": [
    {
     "name": "stdout",
     "output_type": "stream",
     "text": [
      "           A   B   C\n",
      "0   0.849879 NaN NaN\n",
      "3   0.410857 NaN NaN\n",
      "6   0.544474 NaN NaN\n",
      "9   0.030023 NaN NaN\n",
      "12  0.887696 NaN NaN\n",
      "15  0.378727 NaN NaN\n"
     ]
    }
   ],
   "source": [
    "type_list = ['A', 'B', 'C']\n",
    "df_value = pd.DataFrame()\n",
    "for t in type_list:\n",
    "    type_value = xlsx_data[xlsx_data['type'] == t]\n",
    "    df_value[t] = type_value.iloc[:, 1]\n",
    "\n",
    "print(df_value)"
   ]
  },
  {
   "cell_type": "code",
   "execution_count": 8,
   "metadata": {},
   "outputs": [
    {
     "name": "stdout",
     "output_type": "stream",
     "text": [
      "          A         B         C\n",
      "0  0.849879  0.748148  0.486729\n",
      "1  0.410857  0.253102  0.499774\n",
      "2  0.544474  0.825557  0.247176\n",
      "3  0.030023  0.362822  0.850469\n",
      "4  0.887696  0.949626  0.177815\n",
      "5  0.378727  0.229702  0.593233\n"
     ]
    }
   ],
   "source": [
    "type_list = ['A', 'B', 'C']\n",
    "df_value = pd.DataFrame()\n",
    "for t in type_list:\n",
    "    type_value = xlsx_data[xlsx_data['type'] == t]\n",
    "    df_value[t] = type_value.iloc[:, 1].values\n",
    "\n",
    "print(df_value)"
   ]
  },
  {
   "cell_type": "code",
   "execution_count": 9,
   "metadata": {},
   "outputs": [
    {
     "name": "stdout",
     "output_type": "stream",
     "text": [
      "          A         B         C\n",
      "0  0.849879  0.748148  0.486729\n",
      "1  0.410857  0.253102  0.499774\n",
      "2  0.544474  0.825557  0.247176\n",
      "3  0.030023  0.362822  0.850469\n",
      "4  0.887696  0.949626  0.177815\n",
      "5  0.378727  0.229702  0.593233\n"
     ]
    }
   ],
   "source": [
    "type_list = ['A', 'B', 'C']\n",
    "df_value = pd.DataFrame()\n",
    "for t in type_list:\n",
    "    type_value = xlsx_data[xlsx_data['type'] == t]\n",
    "    df_value[t] = type_value['value'].values\n",
    "\n",
    "print(df_value)"
   ]
  }
 ],
 "metadata": {
  "kernelspec": {
   "display_name": "tf",
   "language": "python",
   "name": "python3"
  },
  "language_info": {
   "codemirror_mode": {
    "name": "ipython",
    "version": 3
   },
   "file_extension": ".py",
   "mimetype": "text/x-python",
   "name": "python",
   "nbconvert_exporter": "python",
   "pygments_lexer": "ipython3",
   "version": "3.9.16"
  },
  "orig_nbformat": 4
 },
 "nbformat": 4,
 "nbformat_minor": 2
}
