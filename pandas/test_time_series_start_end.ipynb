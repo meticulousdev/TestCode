{
 "cells": [
  {
   "cell_type": "code",
   "execution_count": 1,
   "metadata": {},
   "outputs": [],
   "source": [
    "import pandas as pd"
   ]
  },
  {
   "cell_type": "code",
   "execution_count": 2,
   "metadata": {},
   "outputs": [],
   "source": [
    "day_to_sec = 86400"
   ]
  },
  {
   "cell_type": "code",
   "execution_count": 3,
   "metadata": {},
   "outputs": [
    {
     "name": "stdout",
     "output_type": "stream",
     "text": [
      "DatetimeIndex(['2023-01-01 00:00:00', '2023-01-01 01:00:00',\n",
      "               '2023-01-01 02:00:00', '2023-01-01 03:00:00',\n",
      "               '2023-01-01 04:00:00', '2023-01-01 05:00:00',\n",
      "               '2023-01-01 06:00:00', '2023-01-01 07:00:00',\n",
      "               '2023-01-01 08:00:00', '2023-01-01 09:00:00',\n",
      "               ...\n",
      "               '2023-12-31 14:00:00', '2023-12-31 15:00:00',\n",
      "               '2023-12-31 16:00:00', '2023-12-31 17:00:00',\n",
      "               '2023-12-31 18:00:00', '2023-12-31 19:00:00',\n",
      "               '2023-12-31 20:00:00', '2023-12-31 21:00:00',\n",
      "               '2023-12-31 22:00:00', '2023-12-31 23:00:00'],\n",
      "              dtype='datetime64[ns]', length=8760, freq='H')\n",
      "\n",
      "365 * 24 = 8760\n"
     ]
    }
   ],
   "source": [
    "data_time_idx = pd.date_range(start='2023-01-01 00:00:00', end='2023-12-31 23:00:00', freq='1H')\n",
    "print(data_time_idx)\n",
    "print()\n",
    "print(f\"365 * 24 = {365*24}\")"
   ]
  },
  {
   "cell_type": "code",
   "execution_count": 4,
   "metadata": {},
   "outputs": [
    {
     "name": "stdout",
     "output_type": "stream",
     "text": [
      "                     data01  data02    data03  data04\n",
      "2023-01-01 00:00:00       0       0         0       0\n",
      "2023-01-01 01:00:00       1       2         1       0\n",
      "2023-01-01 02:00:00       2       4         4       0\n",
      "2023-01-01 03:00:00       3       6         9       0\n",
      "2023-01-01 04:00:00       4       8        16       0\n",
      "...                     ...     ...       ...     ...\n",
      "2023-12-31 19:00:00    8755   17510  76650025       0\n",
      "2023-12-31 20:00:00    8756   17512  76667536       0\n",
      "2023-12-31 21:00:00    8757   17514  76685049       0\n",
      "2023-12-31 22:00:00    8758   17516  76702564       0\n",
      "2023-12-31 23:00:00    8759   17518  76720081       0\n",
      "\n",
      "[8760 rows x 4 columns]\n"
     ]
    }
   ],
   "source": [
    "data_columns = ['data01', 'data02', 'data03', 'data04']\n",
    "\n",
    "data_example = pd.DataFrame([[i, i * 2, i * i, 0] for i in range(data_time_idx.shape[0])], index=data_time_idx, columns=data_columns)\n",
    "print(data_example)"
   ]
  },
  {
   "cell_type": "code",
   "execution_count": 5,
   "metadata": {},
   "outputs": [
    {
     "name": "stdout",
     "output_type": "stream",
     "text": [
      "                start                 end             net\n",
      "0 2023-01-01 09:00:00 2023-01-01 18:00:00 0 days 09:00:00\n"
     ]
    }
   ],
   "source": [
    "working_hour = pd.DataFrame()\n",
    "working_hour['start'] = ['2023-01-01 09:00:00']\n",
    "working_hour['end'] = ['2023-01-01 18:00:00']\n",
    "\n",
    "working_hour['start'] = pd.to_datetime(working_hour['start'], errors='coerce')\n",
    "working_hour['end'] = pd.to_datetime(working_hour['end'], errors='coerce')\n",
    "\n",
    "working_hour['net'] = working_hour['end'] - working_hour['start']\n",
    "print(working_hour)"
   ]
  },
  {
   "cell_type": "code",
   "execution_count": 11,
   "metadata": {},
   "outputs": [
    {
     "name": "stdout",
     "output_type": "stream",
     "text": [
      "DatetimeIndex(['2023-01-01 09:00:00', '2023-01-01 10:00:00',\n",
      "               '2023-01-01 11:00:00', '2023-01-01 12:00:00',\n",
      "               '2023-01-01 13:00:00', '2023-01-01 14:00:00',\n",
      "               '2023-01-01 15:00:00', '2023-01-01 16:00:00',\n",
      "               '2023-01-01 17:00:00'],\n",
      "              dtype='datetime64[ns]', freq='H')\n"
     ]
    }
   ],
   "source": [
    "# closed    ~ 1.4.0\n",
    "# inclusive   1.4.0 ~\n",
    "idx = pd.date_range(start=working_hour['start'][0], end=working_hour['end'][0], freq='1H', inclusive='left')\n",
    "print(idx)"
   ]
  },
  {
   "cell_type": "code",
   "execution_count": 7,
   "metadata": {},
   "outputs": [],
   "source": [
    "data_example['data04'].loc[idx] = 1"
   ]
  },
  {
   "cell_type": "code",
   "execution_count": 8,
   "metadata": {},
   "outputs": [
    {
     "name": "stdout",
     "output_type": "stream",
     "text": [
      "                     data01  data02    data03  data04\n",
      "2023-01-01 00:00:00       0       0         0       0\n",
      "2023-01-01 01:00:00       1       2         1       0\n",
      "2023-01-01 02:00:00       2       4         4       0\n",
      "2023-01-01 03:00:00       3       6         9       0\n",
      "2023-01-01 04:00:00       4       8        16       0\n",
      "...                     ...     ...       ...     ...\n",
      "2023-12-31 19:00:00    8755   17510  76650025       0\n",
      "2023-12-31 20:00:00    8756   17512  76667536       0\n",
      "2023-12-31 21:00:00    8757   17514  76685049       0\n",
      "2023-12-31 22:00:00    8758   17516  76702564       0\n",
      "2023-12-31 23:00:00    8759   17518  76720081       0\n",
      "\n",
      "[8760 rows x 4 columns]\n"
     ]
    }
   ],
   "source": [
    "print(data_example)"
   ]
  },
  {
   "cell_type": "code",
   "execution_count": 9,
   "metadata": {},
   "outputs": [],
   "source": [
    "for hidx in data_example.index:\n",
    "    if hidx not in idx:\n",
    "        data_example['data04'].loc[hidx] = 2"
   ]
  },
  {
   "cell_type": "code",
   "execution_count": 10,
   "metadata": {},
   "outputs": [
    {
     "name": "stdout",
     "output_type": "stream",
     "text": [
      "                     data01  data02    data03  data04\n",
      "2023-01-01 00:00:00       0       0         0       2\n",
      "2023-01-01 01:00:00       1       2         1       2\n",
      "2023-01-01 02:00:00       2       4         4       2\n",
      "2023-01-01 03:00:00       3       6         9       2\n",
      "2023-01-01 04:00:00       4       8        16       2\n",
      "...                     ...     ...       ...     ...\n",
      "2023-12-31 19:00:00    8755   17510  76650025       2\n",
      "2023-12-31 20:00:00    8756   17512  76667536       2\n",
      "2023-12-31 21:00:00    8757   17514  76685049       2\n",
      "2023-12-31 22:00:00    8758   17516  76702564       2\n",
      "2023-12-31 23:00:00    8759   17518  76720081       2\n",
      "\n",
      "[8760 rows x 4 columns]\n"
     ]
    }
   ],
   "source": [
    "print(data_example)"
   ]
  }
 ],
 "metadata": {
  "kernelspec": {
   "display_name": "tf11",
   "language": "python",
   "name": "python3"
  },
  "language_info": {
   "codemirror_mode": {
    "name": "ipython",
    "version": 3
   },
   "file_extension": ".py",
   "mimetype": "text/x-python",
   "name": "python",
   "nbconvert_exporter": "python",
   "pygments_lexer": "ipython3",
   "version": "3.10.8 | packaged by conda-forge | (main, Nov 24 2022, 14:07:00) [MSC v.1916 64 bit (AMD64)]"
  },
  "orig_nbformat": 4,
  "vscode": {
   "interpreter": {
    "hash": "d280b2d9e4ebb8838dfd923db667f2d4eb5c78cb53915977159cbe1d97e36ce9"
   }
  }
 },
 "nbformat": 4,
 "nbformat_minor": 2
}
